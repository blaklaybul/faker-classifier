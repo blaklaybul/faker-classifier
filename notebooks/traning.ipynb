{
 "cells": [
  {
   "cell_type": "code",
   "execution_count": 55,
   "metadata": {},
   "outputs": [],
   "source": [
    "from faker import Faker\n",
    "import faker\n",
    "import random\n",
    "import numpy as np\n",
    "from collections import Counter\n",
    "from sklearn.feature_extraction.text import CountVectorizer, TfidfTransformer\n",
    "from sklearn.pipeline import Pipeline\n",
    "from sklearn.naive_bayes import MultinomialNB\n",
    "from sklearn.svm import SVC\n",
    "from sklearn.linear_model import LogisticRegression\n",
    "from sklearn.calibration import CalibratedClassifierCV\n",
    "from sklearn.model_selection import train_test_split\n",
    "from sklearn import metrics\n",
    "from sklearn.externals import joblib"
   ]
  },
  {
   "cell_type": "code",
   "execution_count": 9,
   "metadata": {},
   "outputs": [],
   "source": [
    "class_skips = ['automotive', 'barcode', 'color', 'company', 'date_time', 'job', 'lorem', 'misc', 'profile', 'python']\n",
    "method_skips = ['ascii_company_email',\n",
    "                'ascii_email',\n",
    "                'ascii_free_email',\n",
    "                'ascii_safe_email',\n",
    "                'bban',\n",
    "                'bank_country',\n",
    "                'bothify',\n",
    "                'building_number',\n",
    "                'city_suffix',\n",
    "                'company_email',\n",
    "                'country_code',\n",
    "                'currency_name',\n",
    "                'currency_code',\n",
    "                'street_address',\n",
    "                'credit_card_number',\n",
    "                'credit_card_expire',\n",
    "                'credit_card_full',\n",
    "                'credit_card_provider',\n",
    "                'credit_card_security_code',\n",
    "                'cryptocurrency',\n",
    "                'cryptocurrency_code',\n",
    "                'cryptocurrency_name',\n",
    "                'currency',\n",
    "                'domain_word',\n",
    "                'domain_name',\n",
    "                'file_extension',\n",
    "                'file_name',\n",
    "                'first_name_female',\n",
    "                'first_name_male',\n",
    "                'first_name',\n",
    "                'free_email',\n",
    "                'free_email_domain',\n",
    "                'geo_coordinate',\n",
    "                'hexify',\n",
    "                'iban',\n",
    "                'image_url',\n",
    "                'isbn10',\n",
    "                'isbn13',\n",
    "                'ipv4_network_class',\n",
    "                'ipv4_private',\n",
    "                'ipv4_public',\n",
    "                'last_name_female',\n",
    "                'last_name_male',\n",
    "                'last_name',\n",
    "                'latitude',\n",
    "                'longitude',\n",
    "                'lexify',\n",
    "                'linux_processor',\n",
    "                'linux_platform_token',\n",
    "                'mac_platform_token',\n",
    "                'mac_processor',\n",
    "                'mime_type',\n",
    "                'msisdn',\n",
    "                'name_female',\n",
    "                'name_male',\n",
    "                'numerify',\n",
    "                'postcode',\n",
    "                'prefix',\n",
    "                'prefix_male',\n",
    "                'prefix_female',\n",
    "                'random_digit',\n",
    "                'random_digit_not_null',\n",
    "                'random_digit_not_null_or_empty',\n",
    "                'random_digit_or_empty',\n",
    "                'random_element',\n",
    "                'random_int',\n",
    "                'random_letter',\n",
    "                'random_lowercase_letter',\n",
    "                'random_number',\n",
    "                'random_sample',\n",
    "                'random_sample_unique',\n",
    "                'random_uppercase_letter',\n",
    "                'randomize_nb_elements',\n",
    "                'safe_email',\n",
    "                'slug',\n",
    "                'street_name',\n",
    "                'street_suffix',\n",
    "                'suffix',\n",
    "                'suffix_female',\n",
    "                'suffix_male',\n",
    "                'tld',\n",
    "                'uri',\n",
    "                'unix_device',\n",
    "                'unix_partition',\n",
    "                'uri_extension',\n",
    "                'uri_page',\n",
    "                'windows_platform_token',\n",
    "                'safari',\n",
    "                'firefox',\n",
    "                'chrome',\n",
    "                'opera',\n",
    "                'internet_explorer',\n",
    "                'user_name'\n",
    "               ]\n",
    "\n",
    "def faker_examples():\n",
    "    provider_class = []\n",
    "    providers = []\n",
    "    examples = []\n",
    "    f = Faker()\n",
    "    for provider in dir(faker.providers):\n",
    "        num = random.randint(15000,20000)\n",
    "        if provider[0].islower():\n",
    "            if provider in class_skips:\n",
    "                continue\n",
    "            try:\n",
    "                for fake in dir(getattr(faker.providers, provider).Provider):\n",
    "                    if fake in method_skips:\n",
    "                        continue\n",
    "                    if fake[0].islower():\n",
    "                        for i in range(num):\n",
    "                            try:\n",
    "                                examples.append(str(getattr(f, fake)()))\n",
    "                                providers.append(fake)\n",
    "                                provider_class.append(provider)\n",
    "                            except Exception as e:\n",
    "                                continue\n",
    "            except AttributeError:\n",
    "                continue\n",
    "    return provider_class, providers, examples"
   ]
  },
  {
   "cell_type": "code",
   "execution_count": 10,
   "metadata": {},
   "outputs": [],
   "source": [
    "provider_class, providers, examples = faker_examples()"
   ]
  },
  {
   "cell_type": "code",
   "execution_count": 11,
   "metadata": {},
   "outputs": [],
   "source": [
    "text_clf = Pipeline([('vect', CountVectorizer()),\n",
    "                     ('tfidf', TfidfTransformer()),\n",
    "                     ('clf', LogisticRegression())\n",
    "                    ])"
   ]
  },
  {
   "cell_type": "code",
   "execution_count": 21,
   "metadata": {},
   "outputs": [],
   "source": [
    "X_train, X_test, y_train, y_test = train_test_split(examples, providers, \n",
    "                                                    test_size=0.33, random_state=919)"
   ]
  },
  {
   "cell_type": "code",
   "execution_count": 22,
   "metadata": {},
   "outputs": [
    {
     "data": {
      "text/plain": [
       "Pipeline(memory=None,\n",
       "     steps=[('vect', CountVectorizer(analyzer='word', binary=False, decode_error='strict',\n",
       "        dtype=<class 'numpy.int64'>, encoding='utf-8', input='content',\n",
       "        lowercase=True, max_df=1.0, max_features=None, min_df=1,\n",
       "        ngram_range=(1, 1), preprocessor=None, stop_words=None,\n",
       "        strip...ty='l2', random_state=None, solver='liblinear', tol=0.0001,\n",
       "          verbose=0, warm_start=False))])"
      ]
     },
     "execution_count": 22,
     "metadata": {},
     "output_type": "execute_result"
    }
   ],
   "source": [
    "text_clf.fit(X_train, y_train)"
   ]
  },
  {
   "cell_type": "code",
   "execution_count": 23,
   "metadata": {},
   "outputs": [
    {
     "data": {
      "text/plain": [
       "0.9497064015725357"
      ]
     },
     "execution_count": 23,
     "metadata": {},
     "output_type": "execute_result"
    }
   ],
   "source": [
    "predicted = text_clf.predict(X_test)\n",
    "np.mean(predicted == y_test)"
   ]
  },
  {
   "cell_type": "code",
   "execution_count": 47,
   "metadata": {},
   "outputs": [
    {
     "name": "stdout",
     "output_type": "stream",
     "text": [
      "[{'city': 0.8668028457216694}, {'city': 0.8543483348952056}, {'ipv6': 0.41376536254285323}, {'ipv6': 0.41376536254285323}, {'ipv6': 0.41376536254285323}, {'ipv6': 0.41376536254285323}, {'ipv6': 0.41376536254285323}, {'ipv6': 0.41376536254285323}, {'ipv6': 0.41376536254285323}, {'city': 0.15986923406839768}, {'city': 0.15986923406839768}, {'city': 0.15986923406839768}, {'city': 0.15986923406839768}, {'city': 0.15986923406839768}, {'city': 0.15986923406839768}, {'city': 0.15986923406839768}, {'phone_number': 0.1508661426093504}, {'phone_number': 0.1508661426093504}, {'phone_number': 0.1508661426093504}, {'phone_number': 0.1508661426093504}, {'phone_number': 0.1508661426093504}, {'phone_number': 0.1508661426093504}, {'phone_number': 0.1508661426093504}, {'ssn': 0.1201362272949441}, {'ssn': 0.1201362272949441}, {'ssn': 0.1201362272949441}, {'ssn': 0.1201362272949441}, {'ssn': 0.1201362272949441}, {'ssn': 0.1201362272949441}, {'ssn': 0.1201362272949441}, {'address': 0.11751602525847793}, {'address': 0.07202306136154074}, {'name': 0.06453589319454925}, {'name': 0.06453589319454925}, {'name': 0.06453589319454925}, {'name': 0.06453589319454925}, {'name': 0.06453589319454925}, {'name': 0.06453589319454925}, {'name': 0.06453589319454925}, {'country': 0.020157323450393255}, {'country': 0.01985048918206819}, {'ipv6': 0.010309627664024122}, {'phone_number': 0.007556098095723901}, {'file_path': 0.001727456918481661}, {'email': 0.001084824713021188}]\n"
     ]
    }
   ],
   "source": [
    "# testers = ['michaelahirsch@gmail.com', 'lh685@georgetown.edu', 'michael.hirsch@elastic.co']\n",
    "# testers = ['364 south 1st street, brooklyn, ny, USA, 10012', '45 west 27th street', '2167 33rd st, apt 4c, astoria, ny, 11105', '1 world trade center, ny, ny', ]\n",
    "testers = ['Florida', 'New York', 'Illinois', 'New Hampshire', 'California', 'Texas', 'tennessee', 'indiana', 'kentucky']\n",
    "classes = []\n",
    "for tester in testers:\n",
    "    X = text_clf.predict_proba([tester])[0]\n",
    "    Y = text_clf.classes_\n",
    "    xy = [{y: x} for x, y in sorted(zip(X,Y), reverse=True)]\n",
    "    for th in xy[:5]:\n",
    "        classes.append(th)\n",
    "print(sorted(classes, key=lambda x: list(x.values())[0], reverse=True))\n",
    "        # print(sorted(classes, key=lambda k: k['val'] ))"
   ]
  },
  {
   "cell_type": "code",
   "execution_count": 48,
   "metadata": {},
   "outputs": [
    {
     "data": {
      "text/plain": [
       "[('ipv6', 8623),\n",
       " ('ipv4', 6654),\n",
       " ('email', 6184),\n",
       " ('uri_path', 6174),\n",
       " ('url', 6114),\n",
       " ('mac_address', 6101),\n",
       " ('ssn', 6011),\n",
       " ('user_agent', 5764),\n",
       " ('name', 5648),\n",
       " ('file_path', 5344),\n",
       " ('address', 5167),\n",
       " ('country', 5059),\n",
       " ('phone_number', 3980),\n",
       " ('city', 3048)]"
      ]
     },
     "execution_count": 48,
     "metadata": {},
     "output_type": "execute_result"
    }
   ],
   "source": [
    "Counter(predicted).most_common()"
   ]
  },
  {
   "cell_type": "code",
   "execution_count": 49,
   "metadata": {},
   "outputs": [
    {
     "name": "stdout",
     "output_type": "stream",
     "text": [
      "              precision    recall  f1-score   support\n",
      "\n",
      "     address       1.00      1.00      1.00      5187\n",
      "        city       0.99      0.59      0.74      5130\n",
      "     country       1.00      1.00      1.00      5049\n",
      "       email       1.00      1.00      1.00      6184\n",
      "   file_path       1.00      1.00      1.00      5343\n",
      "        ipv4       0.90      0.98      0.94      6141\n",
      "        ipv6       0.70      1.00      0.82      6076\n",
      " mac_address       1.00      1.00      1.00      6126\n",
      "        name       1.00      0.98      0.99      5729\n",
      "phone_number       0.99      0.79      0.88      4975\n",
      "         ssn       0.88      0.90      0.89      5882\n",
      "    uri_path       1.00      1.00      1.00      6174\n",
      "         url       1.00      1.00      1.00      6114\n",
      "  user_agent       1.00      1.00      1.00      5761\n",
      "\n",
      " avg / total       0.96      0.95      0.95     79871\n",
      "\n"
     ]
    }
   ],
   "source": [
    "print(metrics.classification_report(y_test, predicted))"
   ]
  },
  {
   "cell_type": "code",
   "execution_count": 50,
   "metadata": {},
   "outputs": [
    {
     "data": {
      "text/plain": [
       "array([[5163,   18,    0,    0,    1,    0,    0,    0,    5,    0,    0,\n",
       "           0,    0,    0],\n",
       "       [   0, 3019,    0,    0,    0,    0, 2111,    0,    0,    0,    0,\n",
       "           0,    0,    0],\n",
       "       [   0,    0, 5049,    0,    0,    0,    0,    0,    0,    0,    0,\n",
       "           0,    0,    0],\n",
       "       [   0,    0,    0, 6184,    0,    0,    0,    0,    0,    0,    0,\n",
       "           0,    0,    0],\n",
       "       [   1,    0,    0,    0, 5342,    0,    0,    0,    0,    0,    0,\n",
       "           0,    0,    0],\n",
       "       [   0,    0,    0,    0,    0, 6015,    0,    0,    0,    0,  126,\n",
       "           0,    0,    0],\n",
       "       [   0,    0,    0,    0,    0,    1, 6050,    0,    0,   19,    6,\n",
       "           0,    0,    0],\n",
       "       [   0,    0,    0,    0,    0,    9,    0, 6101,    0,    0,   16,\n",
       "           0,    0,    0],\n",
       "       [   3,   11,   10,    0,    1,    0,   61,    0, 5643,    0,    0,\n",
       "           0,    0,    0],\n",
       "       [   0,    0,    0,    0,    0,   93,  401,    0,    0, 3927,  551,\n",
       "           0,    0,    3],\n",
       "       [   0,    0,    0,    0,    0,  536,    0,    0,    0,   34, 5312,\n",
       "           0,    0,    0],\n",
       "       [   0,    0,    0,    0,    0,    0,    0,    0,    0,    0,    0,\n",
       "        6174,    0,    0],\n",
       "       [   0,    0,    0,    0,    0,    0,    0,    0,    0,    0,    0,\n",
       "           0, 6114,    0],\n",
       "       [   0,    0,    0,    0,    0,    0,    0,    0,    0,    0,    0,\n",
       "           0,    0, 5761]])"
      ]
     },
     "execution_count": 50,
     "metadata": {},
     "output_type": "execute_result"
    }
   ],
   "source": [
    "metrics.confusion_matrix(y_test, predicted)"
   ]
  },
  {
   "cell_type": "code",
   "execution_count": 57,
   "metadata": {},
   "outputs": [
    {
     "data": {
      "text/plain": [
       "['faker.classifier']"
      ]
     },
     "execution_count": 57,
     "metadata": {},
     "output_type": "execute_result"
    }
   ],
   "source": [
    "filename = 'faker.classifier'\n",
    "joblib.dump(text_clf, filename)"
   ]
  },
  {
   "cell_type": "code",
   "execution_count": 58,
   "metadata": {},
   "outputs": [],
   "source": [
    "new_clf = joblib.load(filename)"
   ]
  },
  {
   "cell_type": "code",
   "execution_count": null,
   "metadata": {},
   "outputs": [],
   "source": []
  }
 ],
 "metadata": {
  "kernelspec": {
   "display_name": "Python 3",
   "language": "python",
   "name": "python3"
  },
  "language_info": {
   "codemirror_mode": {
    "name": "ipython",
    "version": 3
   },
   "file_extension": ".py",
   "mimetype": "text/x-python",
   "name": "python",
   "nbconvert_exporter": "python",
   "pygments_lexer": "ipython3",
   "version": "3.6.3"
  }
 },
 "nbformat": 4,
 "nbformat_minor": 2
}
